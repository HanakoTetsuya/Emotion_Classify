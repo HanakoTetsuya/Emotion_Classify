{
 "cells": [
  {
   "cell_type": "code",
   "execution_count": 1,
   "id": "35aff21a",
   "metadata": {
    "_cell_guid": "b1076dfc-b9ad-4769-8c92-a6c4dae69d19",
    "_uuid": "8f2839f25d086af736a60e9eeb907d3b93b6e0e5",
    "execution": {
     "iopub.execute_input": "2023-05-03T07:51:26.768047Z",
     "iopub.status.busy": "2023-05-03T07:51:26.767527Z",
     "iopub.status.idle": "2023-05-03T07:51:26.786057Z",
     "shell.execute_reply": "2023-05-03T07:51:26.784874Z"
    },
    "papermill": {
     "duration": 0.029225,
     "end_time": "2023-05-03T07:51:26.789398",
     "exception": false,
     "start_time": "2023-05-03T07:51:26.760173",
     "status": "completed"
    },
    "tags": []
   },
   "outputs": [
    {
     "name": "stdout",
     "output_type": "stream",
     "text": [
      "/kaggle/input/students-anxiety-and-depression-dataset/dataset.xlsx\n"
     ]
    }
   ],
   "source": [
    "import numpy as np # linear algebra\n",
    "import pandas as pd # data processing, CSV file I/O (e.g. pd.read_csv)\n",
    "\n",
    "import os\n",
    "for dirname, _, filenames in os.walk('/kaggle/input'):\n",
    "    for filename in filenames:\n",
    "        print(os.path.join(dirname, filename))"
   ]
  },
  {
   "cell_type": "code",
   "execution_count": 2,
   "id": "a72a7ffb",
   "metadata": {
    "execution": {
     "iopub.execute_input": "2023-05-03T07:51:26.800842Z",
     "iopub.status.busy": "2023-05-03T07:51:26.800449Z",
     "iopub.status.idle": "2023-05-03T07:51:29.243321Z",
     "shell.execute_reply": "2023-05-03T07:51:29.242402Z"
    },
    "papermill": {
     "duration": 2.451813,
     "end_time": "2023-05-03T07:51:29.246183",
     "exception": false,
     "start_time": "2023-05-03T07:51:26.794370",
     "status": "completed"
    },
    "tags": []
   },
   "outputs": [
    {
     "name": "stderr",
     "output_type": "stream",
     "text": [
      "/opt/conda/lib/python3.10/site-packages/scipy/__init__.py:146: UserWarning: A NumPy version >=1.16.5 and <1.23.0 is required for this version of SciPy (detected version 1.23.5\n",
      "  warnings.warn(f\"A NumPy version >={np_minversion} and <{np_maxversion}\"\n"
     ]
    }
   ],
   "source": [
    "import pandas as pd\n",
    "import numpy as np\n",
    "import matplotlib.pyplot as plt\n",
    "import seaborn as sns\n",
    "sns.set()\n",
    "\n",
    "import re\n",
    "import string\n",
    "\n",
    "import warnings\n",
    "warnings.filterwarnings('ignore')\n",
    "\n",
    "from nltk import sent_tokenize, word_tokenize\n",
    "from nltk.corpus import stopwords\n",
    "from nltk.stem import PorterStemmer\n",
    "\n",
    "from sklearn.feature_extraction.text import TfidfVectorizer\n",
    "from sklearn.model_selection import train_test_split\n",
    "from sklearn.ensemble import RandomForestClassifier\n",
    "\n",
    "from sklearn.metrics import accuracy_score, precision_score, recall_score, f1_score\n",
    "\n",
    "from scikitplot.metrics import plot_confusion_matrix, plot_roc"
   ]
  },
  {
   "cell_type": "code",
   "execution_count": 3,
   "id": "91dc3576",
   "metadata": {
    "execution": {
     "iopub.execute_input": "2023-05-03T07:51:29.259024Z",
     "iopub.status.busy": "2023-05-03T07:51:29.258307Z",
     "iopub.status.idle": "2023-05-03T07:51:29.264181Z",
     "shell.execute_reply": "2023-05-03T07:51:29.262993Z"
    },
    "papermill": {
     "duration": 0.015264,
     "end_time": "2023-05-03T07:51:29.266842",
     "exception": false,
     "start_time": "2023-05-03T07:51:29.251578",
     "status": "completed"
    },
    "tags": []
   },
   "outputs": [
    {
     "name": "stdout",
     "output_type": "stream",
     "text": [
      "pandas==1.5.3\n",
      "numpy==1.5.3\n",
      "matplotlib==1.5.3\n",
      "seaborn==1.5.3\n",
      "skleran==1.5.3\n"
     ]
    }
   ],
   "source": [
    "print(\"pandas==\"+pd.__version__)\n",
    "print(\"numpy==\"+pd.__version__)\n",
    "print(\"matplotlib==\"+pd.__version__)\n",
    "print(\"seaborn==\"+pd.__version__)\n",
    "print(\"skleran==\"+pd.__version__)"
   ]
  },
  {
   "cell_type": "code",
   "execution_count": 4,
   "id": "d202bbc8",
   "metadata": {
    "execution": {
     "iopub.execute_input": "2023-05-03T07:51:29.279403Z",
     "iopub.status.busy": "2023-05-03T07:51:29.278981Z",
     "iopub.status.idle": "2023-05-03T07:51:30.264640Z",
     "shell.execute_reply": "2023-05-03T07:51:30.263587Z"
    },
    "papermill": {
     "duration": 0.994838,
     "end_time": "2023-05-03T07:51:30.267040",
     "exception": false,
     "start_time": "2023-05-03T07:51:29.272202",
     "status": "completed"
    },
    "tags": []
   },
   "outputs": [
    {
     "data": {
      "text/html": [
       "<div>\n",
       "<style scoped>\n",
       "    .dataframe tbody tr th:only-of-type {\n",
       "        vertical-align: middle;\n",
       "    }\n",
       "\n",
       "    .dataframe tbody tr th {\n",
       "        vertical-align: top;\n",
       "    }\n",
       "\n",
       "    .dataframe thead th {\n",
       "        text-align: right;\n",
       "    }\n",
       "</style>\n",
       "<table border=\"1\" class=\"dataframe\">\n",
       "  <thead>\n",
       "    <tr style=\"text-align: right;\">\n",
       "      <th></th>\n",
       "      <th>text</th>\n",
       "      <th>label</th>\n",
       "    </tr>\n",
       "  </thead>\n",
       "  <tbody>\n",
       "    <tr>\n",
       "      <th>0</th>\n",
       "      <td>oh my gosh</td>\n",
       "      <td>1.0</td>\n",
       "    </tr>\n",
       "    <tr>\n",
       "      <th>1</th>\n",
       "      <td>trouble sleeping, confused mind, restless hear...</td>\n",
       "      <td>1.0</td>\n",
       "    </tr>\n",
       "    <tr>\n",
       "      <th>2</th>\n",
       "      <td>All wrong, back off dear, forward doubt. Stay ...</td>\n",
       "      <td>1.0</td>\n",
       "    </tr>\n",
       "    <tr>\n",
       "      <th>3</th>\n",
       "      <td>I've shifted my focus to something else but I'...</td>\n",
       "      <td>1.0</td>\n",
       "    </tr>\n",
       "    <tr>\n",
       "      <th>4</th>\n",
       "      <td>I'm restless and restless, it's been a month n...</td>\n",
       "      <td>1.0</td>\n",
       "    </tr>\n",
       "  </tbody>\n",
       "</table>\n",
       "</div>"
      ],
      "text/plain": [
       "                                                text  label\n",
       "0                                         oh my gosh    1.0\n",
       "1  trouble sleeping, confused mind, restless hear...    1.0\n",
       "2  All wrong, back off dear, forward doubt. Stay ...    1.0\n",
       "3  I've shifted my focus to something else but I'...    1.0\n",
       "4  I'm restless and restless, it's been a month n...    1.0"
      ]
     },
     "execution_count": 4,
     "metadata": {},
     "output_type": "execute_result"
    }
   ],
   "source": [
    "data = pd.read_excel('../input/students-anxiety-and-depression-dataset/dataset.xlsx')\n",
    "data.head()"
   ]
  },
  {
   "cell_type": "code",
   "execution_count": 5,
   "id": "32b0fbd3",
   "metadata": {
    "execution": {
     "iopub.execute_input": "2023-05-03T07:51:30.279498Z",
     "iopub.status.busy": "2023-05-03T07:51:30.278882Z",
     "iopub.status.idle": "2023-05-03T07:51:30.289718Z",
     "shell.execute_reply": "2023-05-03T07:51:30.288677Z"
    },
    "papermill": {
     "duration": 0.019939,
     "end_time": "2023-05-03T07:51:30.292294",
     "exception": false,
     "start_time": "2023-05-03T07:51:30.272355",
     "status": "completed"
    },
    "tags": []
   },
   "outputs": [],
   "source": [
    "data=data.dropna(how='any')"
   ]
  },
  {
   "cell_type": "code",
   "execution_count": 6,
   "id": "cc4b50e4",
   "metadata": {
    "execution": {
     "iopub.execute_input": "2023-05-03T07:51:30.304269Z",
     "iopub.status.busy": "2023-05-03T07:51:30.303844Z",
     "iopub.status.idle": "2023-05-03T07:51:30.315306Z",
     "shell.execute_reply": "2023-05-03T07:51:30.314354Z"
    },
    "papermill": {
     "duration": 0.020511,
     "end_time": "2023-05-03T07:51:30.317955",
     "exception": false,
     "start_time": "2023-05-03T07:51:30.297444",
     "status": "completed"
    },
    "tags": []
   },
   "outputs": [],
   "source": [
    "X = data[\"text\"]\n",
    "y = data['label'].values\n",
    "\n",
    "X_train, X_test, y_train, y_test = train_test_split(X, y, test_size= 0.2, random_state= 42, stratify = y)"
   ]
  },
  {
   "cell_type": "code",
   "execution_count": 7,
   "id": "15cfb9a6",
   "metadata": {
    "execution": {
     "iopub.execute_input": "2023-05-03T07:51:30.329880Z",
     "iopub.status.busy": "2023-05-03T07:51:30.329489Z",
     "iopub.status.idle": "2023-05-03T07:51:30.604464Z",
     "shell.execute_reply": "2023-05-03T07:51:30.603491Z"
    },
    "papermill": {
     "duration": 0.283855,
     "end_time": "2023-05-03T07:51:30.607013",
     "exception": false,
     "start_time": "2023-05-03T07:51:30.323158",
     "status": "completed"
    },
    "tags": []
   },
   "outputs": [],
   "source": [
    "tfidf = TfidfVectorizer(max_features= 2500, min_df= 2)\n",
    "X_train = tfidf.fit_transform(X_train).toarray()\n",
    "X_test = tfidf.transform(X_test).toarray()"
   ]
  },
  {
   "cell_type": "code",
   "execution_count": 8,
   "id": "c485dcde",
   "metadata": {
    "execution": {
     "iopub.execute_input": "2023-05-03T07:51:30.618765Z",
     "iopub.status.busy": "2023-05-03T07:51:30.618363Z",
     "iopub.status.idle": "2023-05-03T07:51:30.626110Z",
     "shell.execute_reply": "2023-05-03T07:51:30.624999Z"
    },
    "papermill": {
     "duration": 0.016095,
     "end_time": "2023-05-03T07:51:30.628244",
     "exception": false,
     "start_time": "2023-05-03T07:51:30.612149",
     "status": "completed"
    },
    "tags": []
   },
   "outputs": [],
   "source": [
    "def train_model(model):\n",
    "    model.fit(X_train, y_train)\n",
    "    y_pred = model.predict(X_test)\n",
    "    y_prob = model.predict_proba(X_test)\n",
    "    accuracy = round(accuracy_score(y_test, y_pred), 3)\n",
    "    precision = round(precision_score(y_test, y_pred), 3)\n",
    "    recall = round(recall_score(y_test, y_pred), 3)\n",
    "\n",
    "    print(f'Accuracy of the model: {accuracy}')\n",
    "    print(f'Precision Score of the model: {precision}')\n",
    "    print(f'Recall Score of the model: {recall}')\n",
    "\n",
    "    sns.set_context('notebook', font_scale= 1.3)\n",
    "    fig, ax = plt.subplots(1, 2, figsize = (25,  8))\n",
    "    ax1 = plot_confusion_matrix(y_test, y_pred, ax= ax[0], cmap= 'YlGnBu')\n",
    "    ax2 = plot_roc(y_test, y_prob, ax= ax[1], plot_macro= False, plot_micro= False, cmap= 'summer')"
   ]
  },
  {
   "cell_type": "code",
   "execution_count": 9,
   "id": "236f2a4d",
   "metadata": {
    "execution": {
     "iopub.execute_input": "2023-05-03T07:51:30.640500Z",
     "iopub.status.busy": "2023-05-03T07:51:30.639710Z",
     "iopub.status.idle": "2023-05-03T07:52:18.089333Z",
     "shell.execute_reply": "2023-05-03T07:52:18.087626Z"
    },
    "papermill": {
     "duration": 47.458677,
     "end_time": "2023-05-03T07:52:18.092136",
     "exception": false,
     "start_time": "2023-05-03T07:51:30.633459",
     "status": "completed"
    },
    "tags": []
   },
   "outputs": [
    {
     "name": "stdout",
     "output_type": "stream",
     "text": [
      "Accuracy of the model: 0.988\n",
      "Precision Score of the model: 0.992\n",
      "Recall Score of the model: 0.89\n"
     ]
    },
    {
     "data": {
      "image/png": "[encoded data removed]",
      "text/plain": [
       "<Figure size 2500x800 with 3 Axes>"
      ]
     },
     "metadata": {},
     "output_type": "display_data"
    }
   ],
   "source": [
    "rf = RandomForestClassifier(n_estimators= 300)\n",
    "train_model(rf)"
   ]
  },
  {
   "cell_type": "code",
   "execution_count": 10,
   "id": "dc0b8d3e",
   "metadata": {
    "execution": {
     "iopub.execute_input": "2023-05-03T07:52:18.109168Z",
     "iopub.status.busy": "2023-05-03T07:52:18.107539Z",
     "iopub.status.idle": "2023-05-03T07:52:18.113354Z",
     "shell.execute_reply": "2023-05-03T07:52:18.112506Z"
    },
    "papermill": {
     "duration": 0.016336,
     "end_time": "2023-05-03T07:52:18.115616",
     "exception": false,
     "start_time": "2023-05-03T07:52:18.099280",
     "status": "completed"
    },
    "tags": []
   },
   "outputs": [],
   "source": [
    "ex1 = \"I was so excited but feel loneliness\""
   ]
  },
  {
   "cell_type": "code",
   "execution_count": 11,
   "id": "37cd0370",
   "metadata": {
    "execution": {
     "iopub.execute_input": "2023-05-03T07:52:18.132406Z",
     "iopub.status.busy": "2023-05-03T07:52:18.131550Z",
     "iopub.status.idle": "2023-05-03T07:52:18.138381Z",
     "shell.execute_reply": "2023-05-03T07:52:18.137266Z"
    },
    "papermill": {
     "duration": 0.017096,
     "end_time": "2023-05-03T07:52:18.140695",
     "exception": false,
     "start_time": "2023-05-03T07:52:18.123599",
     "status": "completed"
    },
    "tags": []
   },
   "outputs": [],
   "source": [
    "ex1=tfidf.transform([ex1]).toarray()"
   ]
  },
  {
   "cell_type": "code",
   "execution_count": 12,
   "id": "3df0b7e8",
   "metadata": {
    "execution": {
     "iopub.execute_input": "2023-05-03T07:52:18.156143Z",
     "iopub.status.busy": "2023-05-03T07:52:18.155744Z",
     "iopub.status.idle": "2023-05-03T07:52:18.195778Z",
     "shell.execute_reply": "2023-05-03T07:52:18.194865Z"
    },
    "papermill": {
     "duration": 0.05025,
     "end_time": "2023-05-03T07:52:18.198003",
     "exception": false,
     "start_time": "2023-05-03T07:52:18.147753",
     "status": "completed"
    },
    "tags": []
   },
   "outputs": [
    {
     "data": {
      "text/plain": [
       "array([[0.83333333, 0.16666667]])"
      ]
     },
     "execution_count": 12,
     "metadata": {},
     "output_type": "execute_result"
    }
   ],
   "source": [
    "rf.predict_proba(ex1)"
   ]
  },
  {
   "cell_type": "code",
   "execution_count": 13,
   "id": "eb365faf",
   "metadata": {
    "execution": {
     "iopub.execute_input": "2023-05-03T07:52:18.215485Z",
     "iopub.status.busy": "2023-05-03T07:52:18.214725Z",
     "iopub.status.idle": "2023-05-03T07:52:18.251088Z",
     "shell.execute_reply": "2023-05-03T07:52:18.249842Z"
    },
    "papermill": {
     "duration": 0.047652,
     "end_time": "2023-05-03T07:52:18.253659",
     "exception": false,
     "start_time": "2023-05-03T07:52:18.206007",
     "status": "completed"
    },
    "tags": []
   },
   "outputs": [
    {
     "data": {
      "text/plain": [
       "array([0.])"
      ]
     },
     "execution_count": 13,
     "metadata": {},
     "output_type": "execute_result"
    }
   ],
   "source": [
    "rf.predict(ex1)"
   ]
  },
  {
   "cell_type": "code",
   "execution_count": 14,
   "id": "4246b740",
   "metadata": {
    "execution": {
     "iopub.execute_input": "2023-05-03T07:52:18.270026Z",
     "iopub.status.busy": "2023-05-03T07:52:18.269608Z",
     "iopub.status.idle": "2023-05-03T07:52:18.275689Z",
     "shell.execute_reply": "2023-05-03T07:52:18.274366Z"
    },
    "papermill": {
     "duration": 0.01808,
     "end_time": "2023-05-03T07:52:18.278998",
     "exception": false,
     "start_time": "2023-05-03T07:52:18.260918",
     "status": "completed"
    },
    "tags": []
   },
   "outputs": [],
   "source": [
    "ex2 = \"I can not sleep well and worry all the day\""
   ]
  },
  {
   "cell_type": "code",
   "execution_count": 15,
   "id": "bde764f9",
   "metadata": {
    "execution": {
     "iopub.execute_input": "2023-05-03T07:52:18.295335Z",
     "iopub.status.busy": "2023-05-03T07:52:18.294581Z",
     "iopub.status.idle": "2023-05-03T07:52:18.300799Z",
     "shell.execute_reply": "2023-05-03T07:52:18.299344Z"
    },
    "papermill": {
     "duration": 0.017332,
     "end_time": "2023-05-03T07:52:18.303352",
     "exception": false,
     "start_time": "2023-05-03T07:52:18.286020",
     "status": "completed"
    },
    "tags": []
   },
   "outputs": [],
   "source": [
    "ex2=tfidf.transform([ex2]).toarray()"
   ]
  },
  {
   "cell_type": "code",
   "execution_count": 16,
   "id": "e090a4d1",
   "metadata": {
    "execution": {
     "iopub.execute_input": "2023-05-03T07:52:18.319338Z",
     "iopub.status.busy": "2023-05-03T07:52:18.318958Z",
     "iopub.status.idle": "2023-05-03T07:52:18.358577Z",
     "shell.execute_reply": "2023-05-03T07:52:18.357398Z"
    },
    "papermill": {
     "duration": 0.050725,
     "end_time": "2023-05-03T07:52:18.361036",
     "exception": false,
     "start_time": "2023-05-03T07:52:18.310311",
     "status": "completed"
    },
    "tags": []
   },
   "outputs": [
    {
     "data": {
      "text/plain": [
       "array([[0.39, 0.61]])"
      ]
     },
     "execution_count": 16,
     "metadata": {},
     "output_type": "execute_result"
    }
   ],
   "source": [
    "rf.predict_proba(ex2)"
   ]
  },
  {
   "cell_type": "code",
   "execution_count": 17,
   "id": "c1d9fcac",
   "metadata": {
    "execution": {
     "iopub.execute_input": "2023-05-03T07:52:18.377402Z",
     "iopub.status.busy": "2023-05-03T07:52:18.376302Z",
     "iopub.status.idle": "2023-05-03T07:52:18.411449Z",
     "shell.execute_reply": "2023-05-03T07:52:18.410234Z"
    },
    "papermill": {
     "duration": 0.04594,
     "end_time": "2023-05-03T07:52:18.414002",
     "exception": false,
     "start_time": "2023-05-03T07:52:18.368062",
     "status": "completed"
    },
    "tags": []
   },
   "outputs": [
    {
     "data": {
      "text/plain": [
       "array([1.])"
      ]
     },
     "execution_count": 17,
     "metadata": {},
     "output_type": "execute_result"
    }
   ],
   "source": [
    "rf.predict(ex2)"
   ]
  },
  {
   "cell_type": "code",
   "execution_count": null,
   "id": "b99a63f5",
   "metadata": {
    "papermill": {
     "duration": 0.006583,
     "end_time": "2023-05-03T07:52:18.427625",
     "exception": false,
     "start_time": "2023-05-03T07:52:18.421042",
     "status": "completed"
    },
    "tags": []
   },
   "outputs": [],
   "source": []
  }
 ],
 "metadata": {
  "kernelspec": {
   "display_name": "Python 3",
   "language": "python",
   "name": "python3"
  },
  "language_info": {
   "codemirror_mode": {
    "name": "ipython",
    "version": 3
   },
   "file_extension": ".py",
   "mimetype": "text/x-python",
   "name": "python",
   "nbconvert_exporter": "python",
   "pygments_lexer": "ipython3",
   "version": "3.10.10"
  },
  "papermill": {
   "default_parameters": {},
   "duration": 65.584903,
   "end_time": "2023-05-03T07:52:19.658210",
   "environment_variables": {},
   "exception": null,
   "input_path": "__notebook__.ipynb",
   "output_path": "__notebook__.ipynb",
   "parameters": {},
   "start_time": "2023-05-03T07:51:14.073307",
   "version": "2.4.0"
  }
 },
 "nbformat": 4,
 "nbformat_minor": 5
}
